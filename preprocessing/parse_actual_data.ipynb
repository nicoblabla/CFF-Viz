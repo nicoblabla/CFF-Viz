{
 "cells": [
  {
   "cell_type": "code",
   "execution_count": null,
   "metadata": {},
   "outputs": [],
   "source": [
    "from datetime import datetime\n",
    "import pandas as pd\n",
    "import json\n",
    "pd.set_option('display.max_columns', None)\n"
   ]
  },
  {
   "cell_type": "code",
   "execution_count": null,
   "metadata": {},
   "outputs": [],
   "source": [
    "#2022-10-19T05:47:00\n",
    "dateparse = lambda x: datetime.strptime(x, '%Y-%m-%dT%H:%M:%S')\n",
    "df = pd.read_csv('../data/actual_data/raw/19.10.2022.csv', sep=';', parse_dates=['Arrival time', 'Arrival forecast', 'Departure time', 'Departure forecast'])\n",
    "df = df.dropna(axis=0, subset=[\"Arrival time\", \"Arrival forecast\"])"
   ]
  },
  {
   "cell_type": "code",
   "execution_count": null,
   "metadata": {},
   "outputs": [],
   "source": [
    "df_sorted = df.sort_values(by=[\"Journey identifier\", \"Arrival time\"])\n",
    "df_sorted.head(10)"
   ]
  },
  {
   "cell_type": "markdown",
   "metadata": {},
   "source": [
    "## Retards par ligne\n",
    "* Pour chaque row\n",
    "  + Si le journey identifier est le même que le précédent\n",
    "    - Prendre la gare des deux row, et y associer le retard de la 2ème row\n",
    "        "
   ]
  },
  {
   "cell_type": "code",
   "execution_count": null,
   "metadata": {},
   "outputs": [],
   "source": [
    "df_merged = pd.concat([df_sorted, df_sorted.shift(-1).add_prefix('next_')], axis=1)"
   ]
  },
  {
   "cell_type": "code",
   "execution_count": null,
   "metadata": {},
   "outputs": [],
   "source": [
    "class DelayForLine:\n",
    "    station_a: str\n",
    "    station_bb: str\n",
    "    nb_train: int\n",
    "    nb_delayed: int\n",
    "    total_delay: int\n",
    "    nb_cancelled: int\n",
    "\n",
    "    def __init__(self, stations):\n",
    "        self.station_a = stations[0]\n",
    "        self.station_b = stations[1]\n",
    "        self.nb_train = 0\n",
    "        self.nb_delayed = 0\n",
    "        self.total_delay = 0\n",
    "        self.nb_cancelled = 0\n",
    "\n",
    "    def add(self, is_delayed, delay, cancelled):\n",
    "        self.nb_train += 1\n",
    "        self.nb_delayed += is_delayed\n",
    "        self.total_delay += delay # TODO maybe only if is_delayed is True\n",
    "        self.nb_cancelled += cancelled\n",
    "\n",
    "    def __repr__(self):\n",
    "        return \"DelayForLine: \" + json.dumps(self, default=lambda o: o.__dict__, sort_keys=True, indent=4)"
   ]
  },
  {
   "cell_type": "code",
   "execution_count": null,
   "metadata": {},
   "outputs": [],
   "source": [
    "\n",
    "delay_by_line = {}\n",
    "\n",
    "for i, row in df_merged.iterrows():\n",
    "    if row['Journey identifier'] == row['next_Journey identifier']:\n",
    "        is_delayed = row['Arrival delay']\n",
    "        delay = abs(row['Arrival forecast'] - row['Arrival time']).total_seconds()\n",
    "        depart_station = row['Stop name']\n",
    "        arrival_station = row['next_Stop name']\n",
    "        cancelled = row['Cancelled TF']\n",
    "        sorted_stations = sorted([depart_station, arrival_station])\n",
    "        line = '|'.join(sorted_stations)\n",
    "        if line not in delay_by_line:\n",
    "            delay_by_line[line] = DelayForLine(sorted_stations)\n",
    "        delay_by_line[line].add(is_delayed, delay, cancelled)\n"
   ]
  },
  {
   "cell_type": "code",
   "execution_count": null,
   "metadata": {},
   "outputs": [],
   "source": [
    "def obj_dict(obj):\n",
    "    return obj.__dict__\n",
    "\n",
    "with open(\"../data/actual_data/clean/delay_by_line.json\", \"w\") as outfile:\n",
    "    outfile.write(json.dumps(delay_by_line, default=obj_dict))"
   ]
  },
  {
   "cell_type": "markdown",
   "metadata": {},
   "source": [
    "## Retards par gare\n",
    "Pour chaque row\n",
    "    Associer le retards à la gare"
   ]
  },
  {
   "cell_type": "markdown",
   "metadata": {},
   "source": [
    "## Retard par jour de la semaine"
   ]
  },
  {
   "cell_type": "markdown",
   "metadata": {},
   "source": [
    "## Retard par heure"
   ]
  }
 ],
 "metadata": {
  "kernelspec": {
   "display_name": "Python 3.9.7 64-bit",
   "language": "python",
   "name": "python3"
  },
  "language_info": {
   "codemirror_mode": {
    "name": "ipython",
    "version": 3
   },
   "file_extension": ".py",
   "mimetype": "text/x-python",
   "name": "python",
   "nbconvert_exporter": "python",
   "pygments_lexer": "ipython3",
   "version": "3.9.7"
  },
  "orig_nbformat": 4,
  "vscode": {
   "interpreter": {
    "hash": "aee8b7b246df8f9039afb4144a1f6fd8d2ca17a180786b69acc140d282b71a49"
   }
  }
 },
 "nbformat": 4,
 "nbformat_minor": 2
}
